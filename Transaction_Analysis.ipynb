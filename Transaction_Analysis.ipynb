{
 "cells": [
  {
   "cell_type": "markdown",
   "id": "1acea6bb",
   "metadata": {},
   "source": [
    "# End-to-End E-Commerce Customer Transaction Analytics and Business Insights using Python"
   ]
  },
  {
   "cell_type": "markdown",
   "id": "cf3b8d25",
   "metadata": {},
   "source": [
    "##### This case study is a real-world data analysis task from start to finish. Taking an online retail company, tasked with uncovering insights from raw, messy customer transaction data."
   ]
  },
  {
   "cell_type": "markdown",
   "id": "08d5784b",
   "metadata": {},
   "source": [
    "### **Project Goals & Objectives**\n",
    "\n",
    "1.  **Identifing Most Valuable Customer Segments:** Determining who the top customers are in terms of spending and frequency. What are their common characteristics?\n",
    "2.  **Analyzing Purchasing Patterns:** Uncovering insights about product popularity, product associations (which items are bought together), and sales trends over time to help optimize inventory and marketing.\n",
    "3.  **Determining Channel & Payment Effectiveness:** Analyzing how purchasing behavior differs across devices (Desktop vs. Mobile). Are certain payment methods associated with higher-value orders?\n",
    "4.  **Understanding Churn Factors:** Identifing characteristics or behaviors of customers who are inactive or have likely churned to inform future retention strategies."
   ]
  },
  {
   "cell_type": "code",
   "execution_count": 2,
   "id": "c121791e",
   "metadata": {},
   "outputs": [],
   "source": [
    "# Importing the Libraries required to work on this project\n",
    "import numpy as np\n",
    "import pandas as pd\n",
    "import matplotlib.pyplot as plt\n",
    "import seaborn as sns\n",
    "import re\n",
    "import warnings\n",
    "warnings.filterwarnings('ignore')\n",
    "import os"
   ]
  },
  {
   "cell_type": "code",
   "execution_count": 3,
   "id": "214b0323",
   "metadata": {},
   "outputs": [
    {
     "data": {
      "text/plain": [
       "['.conda',\n",
       " '.git',\n",
       " '.venv',\n",
       " 'customer_transaction_data_1L_rows.csv',\n",
       " 'README.md',\n",
       " 'Transaction_Analysis.ipynb']"
      ]
     },
     "execution_count": 3,
     "metadata": {},
     "output_type": "execute_result"
    }
   ],
   "source": [
    "# Listing all the files in the directory \n",
    "os.listdir()"
   ]
  },
  {
   "cell_type": "code",
   "execution_count": 4,
   "id": "24e72864",
   "metadata": {},
   "outputs": [],
   "source": [
    "# Importing the dataset\n",
    "file='customer_transaction_data_1L_rows.csv'\n",
    "df=pd.read_csv(file)\n",
    "df_raw=df.copy()"
   ]
  },
  {
   "cell_type": "code",
   "execution_count": 5,
   "id": "9c47f07f",
   "metadata": {},
   "outputs": [
    {
     "data": {
      "text/html": [
       "<div>\n",
       "<style scoped>\n",
       "    .dataframe tbody tr th:only-of-type {\n",
       "        vertical-align: middle;\n",
       "    }\n",
       "\n",
       "    .dataframe tbody tr th {\n",
       "        vertical-align: top;\n",
       "    }\n",
       "\n",
       "    .dataframe thead th {\n",
       "        text-align: right;\n",
       "    }\n",
       "</style>\n",
       "<table border=\"1\" class=\"dataframe\">\n",
       "  <thead>\n",
       "    <tr style=\"text-align: right;\">\n",
       "      <th></th>\n",
       "      <th>transaction_id</th>\n",
       "      <th>transaction_date</th>\n",
       "      <th>transaction_time</th>\n",
       "      <th>transaction_amount</th>\n",
       "      <th>currency</th>\n",
       "      <th>payment_method</th>\n",
       "      <th>transaction_status</th>\n",
       "      <th>customer_id</th>\n",
       "      <th>customer_first_name</th>\n",
       "      <th>customer_last_name</th>\n",
       "      <th>...</th>\n",
       "      <th>product_subcategory</th>\n",
       "      <th>quantity</th>\n",
       "      <th>item_price</th>\n",
       "      <th>discount_applied_percent</th>\n",
       "      <th>store_id</th>\n",
       "      <th>shipping_address_city</th>\n",
       "      <th>shipping_address_state</th>\n",
       "      <th>shipping_address_country</th>\n",
       "      <th>device_used</th>\n",
       "      <th>ip_address</th>\n",
       "    </tr>\n",
       "  </thead>\n",
       "  <tbody>\n",
       "    <tr>\n",
       "      <th>0</th>\n",
       "      <td>bfe7aca4-3e3f-463b-bb81-45d334bca61e</td>\n",
       "      <td>2025-06-29</td>\n",
       "      <td>06:27:09</td>\n",
       "      <td>$1,263.33</td>\n",
       "      <td>USD</td>\n",
       "      <td>PayPal</td>\n",
       "      <td>Refunded</td>\n",
       "      <td>dc5ed894-5eec-473f-ad25-8c6f5a98349e</td>\n",
       "      <td>Valerie</td>\n",
       "      <td>Garcia</td>\n",
       "      <td>...</td>\n",
       "      <td>Good</td>\n",
       "      <td>9.0</td>\n",
       "      <td>$151.85</td>\n",
       "      <td>7.56</td>\n",
       "      <td>STORE-004</td>\n",
       "      <td>Cindyfurt</td>\n",
       "      <td>MS</td>\n",
       "      <td>United States</td>\n",
       "      <td>Tablet</td>\n",
       "      <td>73.127.118.134</td>\n",
       "    </tr>\n",
       "    <tr>\n",
       "      <th>1</th>\n",
       "      <td>2e78e0c9-2f55-4790-85f9-6906db9ec928</td>\n",
       "      <td>2023-09-08</td>\n",
       "      <td>10:56:33</td>\n",
       "      <td>$1,919.98</td>\n",
       "      <td>USD</td>\n",
       "      <td>Bank Transfer</td>\n",
       "      <td>Completed</td>\n",
       "      <td>c1c53190-7977-4d33-8934-c074f670f356</td>\n",
       "      <td>Erik</td>\n",
       "      <td>Johnson</td>\n",
       "      <td>...</td>\n",
       "      <td>Usually</td>\n",
       "      <td>10.0</td>\n",
       "      <td>$273.58</td>\n",
       "      <td>29.82</td>\n",
       "      <td>STORE-008</td>\n",
       "      <td>New Scott</td>\n",
       "      <td>IA</td>\n",
       "      <td>USA</td>\n",
       "      <td>Mobile</td>\n",
       "      <td>65.64.108.253</td>\n",
       "    </tr>\n",
       "    <tr>\n",
       "      <th>2</th>\n",
       "      <td>91cfc529-44f4-4987-8e36-02664baee701</td>\n",
       "      <td>2024-12-07</td>\n",
       "      <td>15:46:19</td>\n",
       "      <td>$88.24</td>\n",
       "      <td>USD</td>\n",
       "      <td>PayPal</td>\n",
       "      <td>Refunded</td>\n",
       "      <td>34b24939-0c3f-455a-9bd4-78d74b265520</td>\n",
       "      <td>James</td>\n",
       "      <td>Henry</td>\n",
       "      <td>...</td>\n",
       "      <td>Staff</td>\n",
       "      <td>2.0</td>\n",
       "      <td>$54.19</td>\n",
       "      <td>18.58</td>\n",
       "      <td>STORE-006</td>\n",
       "      <td>Joycechester</td>\n",
       "      <td>NE</td>\n",
       "      <td>Canada</td>\n",
       "      <td>Mobile</td>\n",
       "      <td>27.65.181.72</td>\n",
       "    </tr>\n",
       "    <tr>\n",
       "      <th>3</th>\n",
       "      <td>509c42c7-9ce0-44ce-84a3-a914a79d7752</td>\n",
       "      <td>2024-11-23</td>\n",
       "      <td>06:16:21</td>\n",
       "      <td>$2,047.96</td>\n",
       "      <td>USD</td>\n",
       "      <td>CC</td>\n",
       "      <td>Completed</td>\n",
       "      <td>103cc102-c53a-488a-88f2-0a91378f7e1c</td>\n",
       "      <td>Anthony</td>\n",
       "      <td>Gray</td>\n",
       "      <td>...</td>\n",
       "      <td>Total</td>\n",
       "      <td>7.0</td>\n",
       "      <td>$320.55</td>\n",
       "      <td>8.73</td>\n",
       "      <td>STORE-015</td>\n",
       "      <td>Lisachester</td>\n",
       "      <td>AS</td>\n",
       "      <td>U.S.A.</td>\n",
       "      <td>Tablet</td>\n",
       "      <td>217.134.50.198</td>\n",
       "    </tr>\n",
       "    <tr>\n",
       "      <th>4</th>\n",
       "      <td>bedc81d9-ad30-46ef-a737-ad58fe508862</td>\n",
       "      <td>2023-04-05</td>\n",
       "      <td>17:15:18</td>\n",
       "      <td>$1,186.20</td>\n",
       "      <td>USD</td>\n",
       "      <td>Bank Transfer</td>\n",
       "      <td>Refunded</td>\n",
       "      <td>fa1622ff-2a4d-484d-8280-a640d5b73283</td>\n",
       "      <td>David</td>\n",
       "      <td>Payne</td>\n",
       "      <td>...</td>\n",
       "      <td>Bag</td>\n",
       "      <td>3.0</td>\n",
       "      <td>$499.18</td>\n",
       "      <td>20.79</td>\n",
       "      <td>STORE-003</td>\n",
       "      <td>Vanessaton</td>\n",
       "      <td>LA</td>\n",
       "      <td>U.S.A.</td>\n",
       "      <td>Tablet</td>\n",
       "      <td>57.80.6.82</td>\n",
       "    </tr>\n",
       "  </tbody>\n",
       "</table>\n",
       "<p>5 rows × 30 columns</p>\n",
       "</div>"
      ],
      "text/plain": [
       "                         transaction_id transaction_date transaction_time  \\\n",
       "0  bfe7aca4-3e3f-463b-bb81-45d334bca61e       2025-06-29         06:27:09   \n",
       "1  2e78e0c9-2f55-4790-85f9-6906db9ec928       2023-09-08         10:56:33   \n",
       "2  91cfc529-44f4-4987-8e36-02664baee701       2024-12-07         15:46:19   \n",
       "3  509c42c7-9ce0-44ce-84a3-a914a79d7752       2024-11-23         06:16:21   \n",
       "4  bedc81d9-ad30-46ef-a737-ad58fe508862       2023-04-05         17:15:18   \n",
       "\n",
       "  transaction_amount currency payment_method transaction_status  \\\n",
       "0          $1,263.33      USD         PayPal           Refunded   \n",
       "1          $1,919.98      USD  Bank Transfer          Completed   \n",
       "2             $88.24      USD         PayPal           Refunded   \n",
       "3          $2,047.96      USD             CC          Completed   \n",
       "4          $1,186.20      USD  Bank Transfer           Refunded   \n",
       "\n",
       "                            customer_id customer_first_name  \\\n",
       "0  dc5ed894-5eec-473f-ad25-8c6f5a98349e             Valerie   \n",
       "1  c1c53190-7977-4d33-8934-c074f670f356                Erik   \n",
       "2  34b24939-0c3f-455a-9bd4-78d74b265520               James   \n",
       "3  103cc102-c53a-488a-88f2-0a91378f7e1c             Anthony   \n",
       "4  fa1622ff-2a4d-484d-8280-a640d5b73283               David   \n",
       "\n",
       "  customer_last_name  ... product_subcategory quantity item_price  \\\n",
       "0             Garcia  ...                Good      9.0    $151.85   \n",
       "1            Johnson  ...             Usually     10.0    $273.58   \n",
       "2              Henry  ...               Staff      2.0     $54.19   \n",
       "3               Gray  ...               Total      7.0    $320.55   \n",
       "4              Payne  ...                 Bag      3.0    $499.18   \n",
       "\n",
       "  discount_applied_percent   store_id shipping_address_city  \\\n",
       "0                     7.56  STORE-004             Cindyfurt   \n",
       "1                    29.82  STORE-008             New Scott   \n",
       "2                    18.58  STORE-006          Joycechester   \n",
       "3                     8.73  STORE-015           Lisachester   \n",
       "4                    20.79  STORE-003            Vanessaton   \n",
       "\n",
       "  shipping_address_state shipping_address_country device_used      ip_address  \n",
       "0                     MS            United States      Tablet  73.127.118.134  \n",
       "1                     IA                      USA      Mobile   65.64.108.253  \n",
       "2                     NE                   Canada      Mobile    27.65.181.72  \n",
       "3                     AS                   U.S.A.      Tablet  217.134.50.198  \n",
       "4                     LA                   U.S.A.      Tablet      57.80.6.82  \n",
       "\n",
       "[5 rows x 30 columns]"
      ]
     },
     "execution_count": 5,
     "metadata": {},
     "output_type": "execute_result"
    }
   ],
   "source": [
    "# Viewing the dataset\n",
    "df.head()"
   ]
  },
  {
   "cell_type": "markdown",
   "id": "3bf5aba6",
   "metadata": {},
   "source": [
    "#### 1. Data Cleaning and Preprocessing"
   ]
  },
  {
   "cell_type": "code",
   "execution_count": 6,
   "id": "26c2f9b1",
   "metadata": {},
   "outputs": [],
   "source": [
    "# Handling the duplicated and missing values"
   ]
  },
  {
   "cell_type": "code",
   "execution_count": 7,
   "id": "99efd1ef",
   "metadata": {},
   "outputs": [
    {
     "data": {
      "text/plain": [
       "(100030, 30)"
      ]
     },
     "execution_count": 7,
     "metadata": {},
     "output_type": "execute_result"
    }
   ],
   "source": [
    "df.shape"
   ]
  },
  {
   "cell_type": "code",
   "execution_count": 8,
   "id": "11e08eb1",
   "metadata": {},
   "outputs": [
    {
     "data": {
      "text/plain": [
       "30"
      ]
     },
     "execution_count": 8,
     "metadata": {},
     "output_type": "execute_result"
    }
   ],
   "source": [
    "df.duplicated().sum()"
   ]
  },
  {
   "cell_type": "code",
   "execution_count": 9,
   "id": "f4fb810e",
   "metadata": {},
   "outputs": [],
   "source": [
    "df.drop_duplicates(ignore_index=True,inplace=True)"
   ]
  },
  {
   "cell_type": "code",
   "execution_count": 10,
   "id": "5e6a75d5",
   "metadata": {},
   "outputs": [
    {
     "data": {
      "text/plain": [
       "(100000, 30)"
      ]
     },
     "execution_count": 10,
     "metadata": {},
     "output_type": "execute_result"
    }
   ],
   "source": [
    "df.shape"
   ]
  },
  {
   "cell_type": "code",
   "execution_count": 11,
   "id": "97f31d52",
   "metadata": {},
   "outputs": [],
   "source": [
    "# Fixing the date time columns and removing empty values\n",
    "date_columns=list(df.columns[df.columns.str.lower().str.contains(r'date|dob')])\n",
    "for cols in date_columns:\n",
    "    df[cols]=pd.to_datetime(df[cols])\n",
    "df=df.dropna(subset=date_columns)\n",
    "\n",
    "#  Converting the tranaction_amount and item_price columns to float data type\n",
    "df[['transaction_amount','item_price']]=df[['transaction_amount','item_price']].replace(r'[^0-9.]','', regex=True).astype(float)\n",
    "\n",
    "# Removing the N/A in the quantity column\n",
    "df.quantity.fillna(df.quantity.median(), inplace=True)  \n",
    "\n",
    "# Standardising the product_category column to a consistent format (Title)\n",
    "df.product_category=df.product_category.str.title()\n",
    "\n",
    "# Standardizing the payment_method column to have only three distinct values: 'Credit Card', 'PayPal', 'Bank Transfer'.\n",
    "df.payment_method.replace({'paypal':'PayPal', 'CC':'Credit Card', 'credit_card':'Credit Card'}, inplace=True)\n",
    "\n",
    "# Parsing the customer_phone no. to E164 format (+1XXXXXXXXXX)\n",
    "def cleaner(ph):\n",
    "    return re.sub(r'[^0-9]', '', ph)\n",
    "def clean_phone(ph):\n",
    "    if 'x' not in ph:\n",
    "        if '+1' in ph:\n",
    "            ph=ph.strip('+1')\n",
    "        ph=cleaner(ph)\n",
    "        if len(ph)==10:\n",
    "            ph='+1'+ph\n",
    "        else:\n",
    "            ph\n",
    "        return ph\n",
    "    else:\n",
    "        if '+1' in ph:\n",
    "            ph=ph.strip('+1')\n",
    "            \n",
    "        numbers=[]\n",
    "        lst=ph.split('x')\n",
    "        main=cleaner(lst[0])\n",
    "        if len(main)==10:\n",
    "            main='+1'+main\n",
    "\n",
    "        numbers.append(main)\n",
    "\n",
    "        for ext in lst[1:]:\n",
    "            ext=cleaner(ext)\n",
    "            size=len(ext)\n",
    "            numbers.append(main[:-size]+ext)\n",
    "        return ','.join(numbers)\n",
    "df.customer_phone=df.customer_phone.apply(clean_phone)\n"
   ]
  },
  {
   "cell_type": "markdown",
   "id": "ba58dc7f",
   "metadata": {},
   "source": [
    "#### 2. Exploratory Data Analysis"
   ]
  },
  {
   "cell_type": "code",
   "execution_count": 12,
   "id": "c8cf7cb5",
   "metadata": {},
   "outputs": [
    {
     "data": {
      "text/plain": [
       "<Axes: ylabel='Frequency'>"
      ]
     },
     "execution_count": 12,
     "metadata": {},
     "output_type": "execute_result"
    },
    {
     "data": {
      "image/png": "[encoded data removed]",
      "text/plain": [
       "<Figure size 640x480 with 1 Axes>"
      ]
     },
     "metadata": {},
     "output_type": "display_data"
    }
   ],
   "source": [
    "# Overall distribution of transaction_amount\n",
    "df.transaction_amount.plot(kind='hist')"
   ]
  },
  {
   "cell_type": "code",
   "execution_count": 13,
   "id": "c9b08ca0",
   "metadata": {},
   "outputs": [
    {
     "data": {
      "text/plain": [
       "<Axes: ylabel='product_name'>"
      ]
     },
     "execution_count": 13,
     "metadata": {},
     "output_type": "execute_result"
    },
    {
     "data": {
      "image/png": "[encoded data removed]",
      "text/plain": [
       "<Figure size 640x480 with 1 Axes>"
      ]
     },
     "metadata": {},
     "output_type": "display_data"
    }
   ],
   "source": [
    "df.groupby('product_name').quantity.sum().sort_values(ascending=False).head(10).plot(kind='barh')"
   ]
  },
  {
   "cell_type": "code",
   "execution_count": 14,
   "id": "a24095f2",
   "metadata": {},
   "outputs": [
    {
     "data": {
      "text/plain": [
       "<Axes: xlabel='transaction_year'>"
      ]
     },
     "execution_count": 14,
     "metadata": {},
     "output_type": "execute_result"
    },
    {
     "data": {
      "image/png": "[encoded data removed]",
      "text/plain": [
       "<Figure size 640x480 with 1 Axes>"
      ]
     },
     "metadata": {},
     "output_type": "display_data"
    }
   ],
   "source": [
    "df['transaction_day']=df.transaction_date.dt.day_name()\n",
    "df['transaction_month']=df.transaction_date.dt.month_name()\n",
    "df['transaction_year']=df.transaction_date.dt.year\n",
    "df.groupby('transaction_year').quantity.sum().plot(kind='bar')"
   ]
  },
  {
   "cell_type": "code",
   "execution_count": null,
   "id": "a8f5d172",
   "metadata": {},
   "outputs": [],
   "source": []
  }
 ],
 "metadata": {
  "kernelspec": {
   "display_name": "base",
   "language": "python",
   "name": "python3"
  },
  "language_info": {
   "codemirror_mode": {
    "name": "ipython",
    "version": 3
   },
   "file_extension": ".py",
   "mimetype": "text/x-python",
   "name": "python",
   "nbconvert_exporter": "python",
   "pygments_lexer": "ipython3",
   "version": "3.12.7"
  }
 },
 "nbformat": 4,
 "nbformat_minor": 5
}
